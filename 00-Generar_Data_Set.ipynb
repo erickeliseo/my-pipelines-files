{
 "cells": [
  {
   "cell_type": "code",
   "execution_count": null,
   "id": "9ff578bc-ee5b-48ca-84c2-84c09096ea6b",
   "metadata": {
    "tags": []
   },
   "outputs": [],
   "source": [
    "import pandas as pd\n",
    "import numpy as np\n",
    "\n",
    "# Fijamos una semilla para reproducibilidad\n",
    "np.random.seed(42)\n",
    "\n",
    "# Definimos el tamaño del dataset\n",
    "n_samples = 1000\n",
    "\n",
    "# Creamos las características sintéticas\n",
    "superficie = np.random.randint(50, 350, size=n_samples)  # en metros cuadrados\n",
    "habitaciones = np.random.randint(1, 8, size=n_samples)   # número de habitaciones\n",
    "edad = np.random.randint(0, 100, size=n_samples)         # años de antigüedad\n",
    "precio = (superficie * 1000) + (habitaciones * 5000) - (edad * 100) + np.random.randint(-5000, 5000, size=n_samples)\n",
    "\n",
    "# Creamos una columna categórica (ubicación)\n",
    "ubicaciones = ['Centro', 'Norte', 'Sur', 'Este', 'Oeste']\n",
    "ubicacion = np.random.choice(ubicaciones, size=n_samples)\n",
    "\n",
    "# Creamos el DataFrame\n",
    "data = {\n",
    "    'superficie': superficie,\n",
    "    'habitaciones': habitaciones,\n",
    "    'edad': edad,\n",
    "    'ubicacion': ubicacion,\n",
    "    'precio': precio\n",
    "}\n",
    "\n",
    "df = pd.DataFrame(data)\n",
    "\n",
    "# Guardamos el dataset en un archivo CSV\n",
    "df.to_csv('/opt/app-root/src/files/dataset.csv', index=False)\n",
    "\n",
    "print(\"Archivo dataset.csv generado con éxito.\")\n"
   ]
  }
 ],
 "metadata": {
  "kernelspec": {
   "display_name": "Python 3.9",
   "language": "python",
   "name": "python3"
  },
  "language_info": {
   "codemirror_mode": {
    "name": "ipython",
    "version": 3
   },
   "file_extension": ".py",
   "mimetype": "text/x-python",
   "name": "python",
   "nbconvert_exporter": "python",
   "pygments_lexer": "ipython3",
   "version": "3.9.18"
  }
 },
 "nbformat": 4,
 "nbformat_minor": 5
}
