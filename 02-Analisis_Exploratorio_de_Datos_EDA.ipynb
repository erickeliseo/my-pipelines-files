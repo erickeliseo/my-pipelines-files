{
 "cells": [
  {
   "cell_type": "code",
   "execution_count": null,
   "id": "d15127d7-b8f1-48e5-a827-b9a3e7f103bf",
   "metadata": {
    "tags": []
   },
   "outputs": [],
   "source": [
    "!pip install seaborn"
   ]
  },
  {
   "cell_type": "code",
   "execution_count": null,
   "id": "ff30f8bb-daba-4629-919d-b37f32c8393f",
   "metadata": {},
   "outputs": [],
   "source": [
    "# Importación de librerías\n",
    "import pandas as pd\n",
    "import numpy as np\n",
    "import matplotlib.pyplot as plt\n",
    "import seaborn as sns\n",
    "\n",
    "# Cargar el dataset\n",
    "df = pd.read_csv('/opt/app-root/src/files/dataset.csv')\n",
    "\n",
    "# Inspección del dataset\n",
    "print(df.head())\n",
    "print(df.describe())\n",
    "print(df.info())\n",
    "\n",
    "# Limpieza de datos\n",
    "df = df.dropna()  # Eliminar valores nulos\n",
    "df = df.drop_duplicates()  # Eliminar duplicados\n",
    "\n",
    "# Análisis de distribuciones\n",
    "plt.figure(figsize=(10, 6))\n",
    "sns.histplot(df['superficie'], kde=True)\n",
    "plt.title('Distribución de Superficies')\n",
    "plt.show()\n",
    "\n",
    "# Excluir columnas no numéricas para la matriz de correlación\n",
    "numeric_df = df.select_dtypes(include=[np.number])\n",
    "\n",
    "# Correlación de características\n",
    "plt.figure(figsize=(10, 8))\n",
    "sns.heatmap(numeric_df.corr(), annot=True, cmap='coolwarm', fmt='.2f')\n",
    "plt.title('Matriz de Correlación')\n",
    "plt.show()\n"
   ]
  }
 ],
 "metadata": {
  "kernelspec": {
   "display_name": "Python 3.9",
   "language": "python",
   "name": "python3"
  },
  "language_info": {
   "codemirror_mode": {
    "name": "ipython",
    "version": 3
   },
   "file_extension": ".py",
   "mimetype": "text/x-python",
   "name": "python",
   "nbconvert_exporter": "python",
   "pygments_lexer": "ipython3",
   "version": "3.9.18"
  }
 },
 "nbformat": 4,
 "nbformat_minor": 5
}
