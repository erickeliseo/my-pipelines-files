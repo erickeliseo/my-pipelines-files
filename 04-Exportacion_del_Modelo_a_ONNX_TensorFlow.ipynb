{
 "cells": [
  {
   "cell_type": "code",
   "execution_count": null,
   "id": "27c659b3-4b9a-480c-ae7e-932c3ab22e50",
   "metadata": {
    "tags": []
   },
   "outputs": [],
   "source": [
    "!pip install seaborn"
   ]
  },
  {
   "cell_type": "code",
   "execution_count": null,
   "id": "8d98fdf6-7ee0-48ea-8d93-03ac3a3bf3e9",
   "metadata": {
    "tags": []
   },
   "outputs": [],
   "source": [
    "!pip install onnxmltools"
   ]
  },
  {
   "cell_type": "code",
   "execution_count": null,
   "id": "64dd88e4-2a8f-42fc-a2d9-4611a47baa2a",
   "metadata": {},
   "outputs": [],
   "source": [
    "# Importación de librerías\n",
    "import onnxmltools\n",
    "import joblib\n",
    "from skl2onnx import convert_sklearn\n",
    "from skl2onnx.common.data_types import FloatTensorType\n",
    "import pandas as pd\n",
    "\n",
    "# Cargar los datasets preprocesados para obtener la forma de los datos\n",
    "X_train = pd.read_csv('/opt/app-root/src/files/X_train.csv')\n",
    "\n",
    "# Cargar el modelo entrenado\n",
    "model = joblib.load('/opt/app-root/src/files/random_forest_model.pkl')\n",
    "\n",
    "# Definir el tipo de entrada para ONNX\n",
    "initial_type = [('float_input', FloatTensorType([None, X_train.shape[1]]))]\n",
    "\n",
    "# Convertir el modelo a ONNX\n",
    "onnx_model = convert_sklearn(model, initial_types=initial_type)\n",
    "\n",
    "# Guardar el modelo ONNX\n",
    "with open('/opt/app-root/src/files/model.onnx', 'wb') as f:\n",
    "    f.write(onnx_model.SerializeToString())\n",
    "\n",
    "print(\"Modelo exportado a ONNX\")\n"
   ]
  }
 ],
 "metadata": {
  "kernelspec": {
   "display_name": "Python 3.9",
   "language": "python",
   "name": "python3"
  },
  "language_info": {
   "codemirror_mode": {
    "name": "ipython",
    "version": 3
   },
   "file_extension": ".py",
   "mimetype": "text/x-python",
   "name": "python",
   "nbconvert_exporter": "python",
   "pygments_lexer": "ipython3",
   "version": "3.9.18"
  }
 },
 "nbformat": 4,
 "nbformat_minor": 5
}
