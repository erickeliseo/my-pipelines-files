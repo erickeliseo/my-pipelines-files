{
 "cells": [
  {
   "cell_type": "code",
   "execution_count": null,
   "id": "861ad610-5a49-46c2-abfe-19b34fb92ecf",
   "metadata": {
    "tags": []
   },
   "outputs": [],
   "source": [
    "import os\n",
    "if os.access('/opt/app-root/src/files/dataset.csv', os.R_OK):\n",
    "    print(\"El archivo tiene permisos de lectura.\")\n",
    "else:\n",
    "    print(\"No se puede leer el archivo.\")"
   ]
  },
  {
   "cell_type": "code",
   "execution_count": null,
   "id": "be894e33-f9bf-4ddf-b553-95eae618db28",
   "metadata": {
    "tags": []
   },
   "outputs": [],
   "source": [
    "import time\n",
    "time.sleep(3)  # Espera un par de segundos antes de intentar cargar el archivo"
   ]
  },
  {
   "cell_type": "code",
   "execution_count": null,
   "id": "94ee4248-d3f7-4361-997b-2bb85c18a7f4",
   "metadata": {
    "tags": []
   },
   "outputs": [],
   "source": [
    "!pip install seaborn"
   ]
  },
  {
   "cell_type": "code",
   "execution_count": null,
   "id": "7ec4004b-0104-42ac-9c24-76fb0966a17b",
   "metadata": {},
   "outputs": [],
   "source": [
    "# Importación de librerías\n",
    "import pandas as pd\n",
    "import numpy as np\n",
    "import matplotlib.pyplot as plt\n",
    "import seaborn as sns\n",
    "from sklearn.model_selection import train_test_split\n",
    "from sklearn.preprocessing import StandardScaler, LabelEncoder\n",
    "\n",
    "# Cargar el dataset\n",
    "df = pd.read_csv('/opt/app-root/src/files/dataset.csv')\n",
    "\n",
    "# Inspección del dataset\n",
    "print(df.head())\n",
    "print(df.describe())\n",
    "print(df.info())\n",
    "\n",
    "# Limpieza de datos\n",
    "df = df.dropna()  # Eliminar valores nulos\n",
    "df = df.drop_duplicates()  # Eliminar duplicados\n",
    "\n",
    "# Análisis de distribuciones\n",
    "plt.figure(figsize=(10,6))\n",
    "sns.histplot(df['superficie'], kde=True)\n",
    "plt.title('Distribución de Superficies')\n",
    "plt.show()\n",
    "\n",
    "# Transformaciones de datos\n",
    "le = LabelEncoder()\n",
    "df['ubicacion'] = le.fit_transform(df['ubicacion'])\n",
    "\n",
    "scaler = StandardScaler()\n",
    "df[['superficie', 'habitaciones', 'edad']] = scaler.fit_transform(df[['superficie', 'habitaciones', 'edad']])\n",
    "\n",
    "# División en conjuntos de entrenamiento y prueba\n",
    "X = df.drop('precio', axis=1)\n",
    "y = df['precio']\n",
    "\n",
    "X_train, X_test, y_train, y_test = train_test_split(X, y, test_size=0.2, random_state=42)\n",
    "\n",
    "# Guardar los datasets procesados\n",
    "X_train.to_csv('/opt/app-root/src/files/X_train.csv', index=False)\n",
    "X_test.to_csv('/opt/app-root/src/files/X_test.csv', index=False)\n",
    "y_train.to_csv('/opt/app-root/src/files/y_train.csv', index=False)\n",
    "y_test.to_csv('/opt/app-root/src/files/y_test.csv', index=False)\n"
   ]
  }
 ],
 "metadata": {
  "kernelspec": {
   "display_name": "Python 3.9",
   "language": "python",
   "name": "python3"
  },
  "language_info": {
   "codemirror_mode": {
    "name": "ipython",
    "version": 3
   },
   "file_extension": ".py",
   "mimetype": "text/x-python",
   "name": "python",
   "nbconvert_exporter": "python",
   "pygments_lexer": "ipython3",
   "version": "3.9.18"
  }
 },
 "nbformat": 4,
 "nbformat_minor": 5
}
