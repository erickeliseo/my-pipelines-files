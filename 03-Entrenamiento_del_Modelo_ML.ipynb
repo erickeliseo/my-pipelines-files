{
 "cells": [
  {
   "cell_type": "code",
   "execution_count": null,
   "id": "56a7cb19-2a53-40a3-a65b-3bcf93b2947e",
   "metadata": {
    "tags": []
   },
   "outputs": [],
   "source": [
    "!pip install seaborn"
   ]
  },
  {
   "cell_type": "code",
   "execution_count": null,
   "id": "9934f424-c336-45ea-836d-5905695bacf6",
   "metadata": {},
   "outputs": [],
   "source": [
    "# Importación de librerías\n",
    "import pandas as pd\n",
    "from sklearn.ensemble import RandomForestRegressor\n",
    "from sklearn.metrics import mean_squared_error, r2_score\n",
    "import joblib\n",
    "\n",
    "# Cargar los datasets preprocesados\n",
    "X_train = pd.read_csv('/opt/app-root/src/files/X_train.csv')\n",
    "X_test = pd.read_csv('/opt/app-root/src/files/X_test.csv')\n",
    "y_train = pd.read_csv('/opt/app-root/src/files/y_train.csv').values.ravel()\n",
    "y_test = pd.read_csv('/opt/app-root/src/files/y_test.csv').values.ravel()\n",
    "\n",
    "# Entrenar el modelo\n",
    "model = RandomForestRegressor(random_state=42)\n",
    "model.fit(X_train, y_train)\n",
    "\n",
    "# Predicciones\n",
    "y_pred = model.predict(X_test)\n",
    "\n",
    "# Evaluación del modelo\n",
    "mse = mean_squared_error(y_test, y_pred)\n",
    "r2 = r2_score(y_test, y_pred)\n",
    "print(f'MSE: {mse}')\n",
    "print(f'R2 Score: {r2}')\n",
    "\n",
    "# Guardar el modelo entrenado\n",
    "joblib.dump(model, '/opt/app-root/src/files/random_forest_model.pkl')\n",
    "print(\"Modelo guardado como 'random_forest_model.pkl'\")\n"
   ]
  }
 ],
 "metadata": {
  "kernelspec": {
   "display_name": "Python 3.9",
   "language": "python",
   "name": "python3"
  },
  "language_info": {
   "codemirror_mode": {
    "name": "ipython",
    "version": 3
   },
   "file_extension": ".py",
   "mimetype": "text/x-python",
   "name": "python",
   "nbconvert_exporter": "python",
   "pygments_lexer": "ipython3",
   "version": "3.9.18"
  }
 },
 "nbformat": 4,
 "nbformat_minor": 5
}
